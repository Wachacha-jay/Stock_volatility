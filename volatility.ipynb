{
 "cells": [
  {
   "cell_type": "code",
   "execution_count": 2,
   "id": "faa10ef3-7961-4bb3-b2e2-240aa6191e8d",
   "metadata": {},
   "outputs": [],
   "source": [
    "import pandas as pd\n",
    "import requests\n",
    "from data import AlphaVantageAPI\n",
    "from config import settings"
   ]
  },
  {
   "cell_type": "code",
   "execution_count": 5,
   "id": "adedf0af-c7d4-4cc6-b95f-e42e4801f729",
   "metadata": {},
   "outputs": [
    {
     "name": "stdout",
     "output_type": "stream",
     "text": [
      "url type: <class 'str'>\n"
     ]
    },
    {
     "data": {
      "text/plain": [
       "'https://www.alphavantage.co/query?function=TIME_SERIES_DAILY&symbol=KPLC:NAI&datatype=json&outputsize=compact&apikey=32A38RLCOV07V2GQ'"
      ]
     },
     "execution_count": 5,
     "metadata": {},
     "output_type": "execute_result"
    }
   ],
   "source": [
    "ticker = \"KPLC:NAI\"\n",
    "output_size = \"compact\"\n",
    "data_type = \"json\"\n",
    "alpha_api_key = \"32A38RLCOV07V2GQ\"\n",
    "\n",
    "url = url = (\n",
    "    \"https://www.alphavantage.co/query?\"\n",
    "    \"function=TIME_SERIES_DAILY&\"\n",
    "    f\"symbol={ticker}&\"\n",
    "    f\"datatype={data_type}&\"\n",
    "    f\"outputsize={output_size}&\"\n",
    "    f\"apikey={alpha_api_key}\"\n",
    ")\n",
    "\n",
    "print(\"url type:\", type(url))\n",
    "url"
   ]
  },
  {
   "cell_type": "code",
   "execution_count": 15,
   "id": "eb5d6d84-5c25-46ed-bc19-a36e759b53fc",
   "metadata": {},
   "outputs": [
    {
     "data": {
      "text/plain": [
       "{'bestMatches': [{'1. symbol': 'GEMNF',\n",
       "   '2. name': 'Gemini',\n",
       "   '3. type': 'Equity',\n",
       "   '4. region': 'United States',\n",
       "   '5. marketOpen': '09:30',\n",
       "   '6. marketClose': '16:00',\n",
       "   '7. timezone': 'UTC-04',\n",
       "   '8. currency': 'USD',\n",
       "   '9. matchScore': '1.0000'},\n",
       "  {'1. symbol': 'GMNI',\n",
       "   '2. name': 'Gemini Group Global Corp',\n",
       "   '3. type': 'Equity',\n",
       "   '4. region': 'United States',\n",
       "   '5. marketOpen': '09:30',\n",
       "   '6. marketClose': '16:00',\n",
       "   '7. timezone': 'UTC-04',\n",
       "   '8. currency': 'USD',\n",
       "   '9. matchScore': '0.8000'}]}"
      ]
     },
     "execution_count": 15,
     "metadata": {},
     "output_type": "execute_result"
    }
   ],
   "source": [
    "alpha_api_key = \"7A52YB3MA1ABIQ81\"\n",
    "urlc = (\"https://www.alphavantage.co/query?\"\n",
    "        \"function=SYMBOL_SEARCH&\"\n",
    "        \"keywords=GEMINI&\"\n",
    "        f\"apikey={alpha_api_key}\")\n",
    "response = requests.get(url=urlc)\n",
    "response.json()"
   ]
  },
  {
   "cell_type": "code",
   "execution_count": 16,
   "id": "1a1ab566-45a0-4905-a092-b97d1b175f9d",
   "metadata": {},
   "outputs": [],
   "source": [
    "def check_ticker(ticker):\n",
    "    url = (\"https://www.alphavantage.co/query?\"\n",
    "        \"function=SYMBOL_SEARCH&\"\n",
    "        f\"keywords={ticker}&\"\n",
    "        f\"apikey={alpha_api_key}\")\n",
    "    response = requests.get(url)\n",
    "\n",
    "    return response.json()"
   ]
  },
  {
   "cell_type": "code",
   "execution_count": 19,
   "id": "f1fd18e6-95c2-44af-9597-885d76752c1b",
   "metadata": {},
   "outputs": [
    {
     "data": {
      "text/plain": [
       "{'bestMatches': [{'1. symbol': 'TSLA',\n",
       "   '2. name': 'Tesla Inc',\n",
       "   '3. type': 'Equity',\n",
       "   '4. region': 'United States',\n",
       "   '5. marketOpen': '09:30',\n",
       "   '6. marketClose': '16:00',\n",
       "   '7. timezone': 'UTC-04',\n",
       "   '8. currency': 'USD',\n",
       "   '9. matchScore': '0.8889'},\n",
       "  {'1. symbol': 'TL0.DEX',\n",
       "   '2. name': 'Tesla Inc',\n",
       "   '3. type': 'Equity',\n",
       "   '4. region': 'XETRA',\n",
       "   '5. marketOpen': '08:00',\n",
       "   '6. marketClose': '20:00',\n",
       "   '7. timezone': 'UTC+02',\n",
       "   '8. currency': 'EUR',\n",
       "   '9. matchScore': '0.7143'},\n",
       "  {'1. symbol': 'TL0.FRK',\n",
       "   '2. name': 'Tesla Inc',\n",
       "   '3. type': 'Equity',\n",
       "   '4. region': 'Frankfurt',\n",
       "   '5. marketOpen': '08:00',\n",
       "   '6. marketClose': '20:00',\n",
       "   '7. timezone': 'UTC+02',\n",
       "   '8. currency': 'EUR',\n",
       "   '9. matchScore': '0.7143'},\n",
       "  {'1. symbol': 'TSLA34.SAO',\n",
       "   '2. name': 'Tesla Inc',\n",
       "   '3. type': 'Equity',\n",
       "   '4. region': 'Brazil/Sao Paolo',\n",
       "   '5. marketOpen': '10:00',\n",
       "   '6. marketClose': '17:30',\n",
       "   '7. timezone': 'UTC-03',\n",
       "   '8. currency': 'BRL',\n",
       "   '9. matchScore': '0.7143'},\n",
       "  {'1. symbol': 'TSLA.TRT',\n",
       "   '2. name': 'Tesla CDR (CAD Hedged)',\n",
       "   '3. type': 'Equity',\n",
       "   '4. region': 'Toronto',\n",
       "   '5. marketOpen': '09:30',\n",
       "   '6. marketClose': '16:00',\n",
       "   '7. timezone': 'UTC-05',\n",
       "   '8. currency': 'CAD',\n",
       "   '9. matchScore': '0.6667'},\n",
       "  {'1. symbol': 'TL01.FRK',\n",
       "   '2. name': 'TESLA INC. CDR DL-001',\n",
       "   '3. type': 'Equity',\n",
       "   '4. region': 'Frankfurt',\n",
       "   '5. marketOpen': '08:00',\n",
       "   '6. marketClose': '20:00',\n",
       "   '7. timezone': 'UTC+02',\n",
       "   '8. currency': 'EUR',\n",
       "   '9. matchScore': '0.3846'}]}"
      ]
     },
     "execution_count": 19,
     "metadata": {},
     "output_type": "execute_result"
    }
   ],
   "source": [
    "check_ticker(\"tesla\")"
   ]
  },
  {
   "cell_type": "code",
   "execution_count": 3,
   "id": "522133fc-4a22-4354-bdfb-a7cafc03b6ed",
   "metadata": {},
   "outputs": [],
   "source": [
    "av = AlphaVantageAPI()"
   ]
  },
  {
   "cell_type": "code",
   "execution_count": 6,
   "id": "b8f5b226-37c1-407f-84cd-52b272d2ca39",
   "metadata": {},
   "outputs": [
    {
     "data": {
      "text/plain": [
       "{'bestMatches': [{'1. symbol': 'TSLA',\n",
       "   '2. name': 'Tesla Inc',\n",
       "   '3. type': 'Equity',\n",
       "   '4. region': 'United States',\n",
       "   '5. marketOpen': '09:30',\n",
       "   '6. marketClose': '16:00',\n",
       "   '7. timezone': 'UTC-04',\n",
       "   '8. currency': 'USD',\n",
       "   '9. matchScore': '0.8889'},\n",
       "  {'1. symbol': 'TL0.DEX',\n",
       "   '2. name': 'Tesla Inc',\n",
       "   '3. type': 'Equity',\n",
       "   '4. region': 'XETRA',\n",
       "   '5. marketOpen': '08:00',\n",
       "   '6. marketClose': '20:00',\n",
       "   '7. timezone': 'UTC+02',\n",
       "   '8. currency': 'EUR',\n",
       "   '9. matchScore': '0.7143'},\n",
       "  {'1. symbol': 'TL0.FRK',\n",
       "   '2. name': 'Tesla Inc',\n",
       "   '3. type': 'Equity',\n",
       "   '4. region': 'Frankfurt',\n",
       "   '5. marketOpen': '08:00',\n",
       "   '6. marketClose': '20:00',\n",
       "   '7. timezone': 'UTC+02',\n",
       "   '8. currency': 'EUR',\n",
       "   '9. matchScore': '0.7143'},\n",
       "  {'1. symbol': 'TSLA34.SAO',\n",
       "   '2. name': 'Tesla Inc',\n",
       "   '3. type': 'Equity',\n",
       "   '4. region': 'Brazil/Sao Paolo',\n",
       "   '5. marketOpen': '10:00',\n",
       "   '6. marketClose': '17:30',\n",
       "   '7. timezone': 'UTC-03',\n",
       "   '8. currency': 'BRL',\n",
       "   '9. matchScore': '0.7143'},\n",
       "  {'1. symbol': 'TSLA.TRT',\n",
       "   '2. name': 'Tesla CDR (CAD Hedged)',\n",
       "   '3. type': 'Equity',\n",
       "   '4. region': 'Toronto',\n",
       "   '5. marketOpen': '09:30',\n",
       "   '6. marketClose': '16:00',\n",
       "   '7. timezone': 'UTC-05',\n",
       "   '8. currency': 'CAD',\n",
       "   '9. matchScore': '0.6667'},\n",
       "  {'1. symbol': 'TL01.FRK',\n",
       "   '2. name': 'TESLA INC. CDR DL-001',\n",
       "   '3. type': 'Equity',\n",
       "   '4. region': 'Frankfurt',\n",
       "   '5. marketOpen': '08:00',\n",
       "   '6. marketClose': '20:00',\n",
       "   '7. timezone': 'UTC+02',\n",
       "   '8. currency': 'EUR',\n",
       "   '9. matchScore': '0.3846'}]}"
      ]
     },
     "execution_count": 6,
     "metadata": {},
     "output_type": "execute_result"
    }
   ],
   "source": [
    "ticker = \"tesla\"\n",
    "av.check_ticker(ticker=ticker)"
   ]
  },
  {
   "cell_type": "code",
   "execution_count": null,
   "id": "5454c825-02df-4791-bbdc-2610baad8c54",
   "metadata": {},
   "outputs": [],
   "source": []
  }
 ],
 "metadata": {
  "kernelspec": {
   "display_name": "Python 3 (ipykernel)",
   "language": "python",
   "name": "python3"
  },
  "language_info": {
   "codemirror_mode": {
    "name": "ipython",
    "version": 3
   },
   "file_extension": ".py",
   "mimetype": "text/x-python",
   "name": "python",
   "nbconvert_exporter": "python",
   "pygments_lexer": "ipython3",
   "version": "3.12.9"
  }
 },
 "nbformat": 4,
 "nbformat_minor": 5
}
