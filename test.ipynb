{
 "cells": [
  {
   "cell_type": "code",
   "execution_count": 37,
   "id": "d12c0d07-e3ab-4544-96ef-2091e9019583",
   "metadata": {},
   "outputs": [
    {
     "name": "stdout",
     "output_type": "stream",
     "text": [
      "The autoreload extension is already loaded. To reload it, use:\n",
      "  %reload_ext autoreload\n",
      "The sql extension is already loaded. To reload it, use:\n",
      "  %reload_ext sql\n"
     ]
    }
   ],
   "source": [
    "%load_ext autoreload\n",
    "%load_ext sql\n",
    "%autoreload 2\n",
    "\n",
    "import sqlite3\n",
    "\n",
    "import matplotlib.pyplot as plt\n",
    "import pandas as pd\n",
    "from app.config import settings\n",
    "from app.data import AlphaVantageAPI, SQLRepository"
   ]
  },
  {
   "cell_type": "markdown",
   "id": "661e39f7-6ab3-4a6d-a154-2285ff6e0d57",
   "metadata": {},
   "source": [
    "Building Our Data Module\n",
    "For our application, we're going to keep all the classes we use to extract, transform, and load data in a single module that we'll call data.\n",
    "\n",
    "AlphaVantage API Class\n",
    "Let's get started by taking the code we created in the last and incorporating it into a class that will be in charge of getting data from the AlphaVantage API."
   ]
  },
  {
   "cell_type": "code",
   "execution_count": 5,
   "id": "2ce15363-05a3-4c7b-ab24-9a6728336357",
   "metadata": {},
   "outputs": [
    {
     "name": "stdout",
     "output_type": "stream",
     "text": [
      "av type: <class 'app.data.AlphaVantageAPI'>\n"
     ]
    }
   ],
   "source": [
    "av = AlphaVantageAPI()\n",
    "\n",
    "print(\"av type:\", type(av))"
   ]
  },
  {
   "cell_type": "code",
   "execution_count": 7,
   "id": "8a974ec5-00e3-4b45-af74-a82b964cfef4",
   "metadata": {},
   "outputs": [
    {
     "name": "stdout",
     "output_type": "stream",
     "text": [
      "df_tsla type: <class 'pandas.core.frame.DataFrame'>\n",
      "df_tsla shape: (3714, 5)\n"
     ]
    },
    {
     "data": {
      "text/html": [
       "<div>\n",
       "<style scoped>\n",
       "    .dataframe tbody tr th:only-of-type {\n",
       "        vertical-align: middle;\n",
       "    }\n",
       "\n",
       "    .dataframe tbody tr th {\n",
       "        vertical-align: top;\n",
       "    }\n",
       "\n",
       "    .dataframe thead th {\n",
       "        text-align: right;\n",
       "    }\n",
       "</style>\n",
       "<table border=\"1\" class=\"dataframe\">\n",
       "  <thead>\n",
       "    <tr style=\"text-align: right;\">\n",
       "      <th></th>\n",
       "      <th>open</th>\n",
       "      <th>high</th>\n",
       "      <th>low</th>\n",
       "      <th>close</th>\n",
       "      <th>volume</th>\n",
       "    </tr>\n",
       "    <tr>\n",
       "      <th>date</th>\n",
       "      <th></th>\n",
       "      <th></th>\n",
       "      <th></th>\n",
       "      <th></th>\n",
       "      <th></th>\n",
       "    </tr>\n",
       "  </thead>\n",
       "  <tbody>\n",
       "    <tr>\n",
       "      <th>2025-04-02</th>\n",
       "      <td>254.600</td>\n",
       "      <td>284.99</td>\n",
       "      <td>251.2700</td>\n",
       "      <td>282.76</td>\n",
       "      <td>212787817.0</td>\n",
       "    </tr>\n",
       "    <tr>\n",
       "      <th>2025-04-01</th>\n",
       "      <td>263.800</td>\n",
       "      <td>277.45</td>\n",
       "      <td>259.2500</td>\n",
       "      <td>268.46</td>\n",
       "      <td>146486911.0</td>\n",
       "    </tr>\n",
       "    <tr>\n",
       "      <th>2025-03-31</th>\n",
       "      <td>249.310</td>\n",
       "      <td>260.56</td>\n",
       "      <td>243.3601</td>\n",
       "      <td>259.16</td>\n",
       "      <td>134008936.0</td>\n",
       "    </tr>\n",
       "    <tr>\n",
       "      <th>2025-03-28</th>\n",
       "      <td>275.575</td>\n",
       "      <td>276.10</td>\n",
       "      <td>260.5700</td>\n",
       "      <td>263.55</td>\n",
       "      <td>123809389.0</td>\n",
       "    </tr>\n",
       "    <tr>\n",
       "      <th>2025-03-27</th>\n",
       "      <td>272.480</td>\n",
       "      <td>291.85</td>\n",
       "      <td>271.8216</td>\n",
       "      <td>273.13</td>\n",
       "      <td>162572146.0</td>\n",
       "    </tr>\n",
       "  </tbody>\n",
       "</table>\n",
       "</div>"
      ],
      "text/plain": [
       "               open    high       low   close       volume\n",
       "date                                                      \n",
       "2025-04-02  254.600  284.99  251.2700  282.76  212787817.0\n",
       "2025-04-01  263.800  277.45  259.2500  268.46  146486911.0\n",
       "2025-03-31  249.310  260.56  243.3601  259.16  134008936.0\n",
       "2025-03-28  275.575  276.10  260.5700  263.55  123809389.0\n",
       "2025-03-27  272.480  291.85  271.8216  273.13  162572146.0"
      ]
     },
     "execution_count": 7,
     "metadata": {},
     "output_type": "execute_result"
    }
   ],
   "source": [
    "# Define Suzlon ticker symbol\n",
    "ticker = \"TSLA\"\n",
    "\n",
    "# Use your `av` object to get daily data\n",
    "df_tsla = av.get_daily(ticker=ticker)\n",
    "\n",
    "print(\"df_tsla type:\", type(df_tsla))\n",
    "print(\"df_tsla shape:\", df_tsla.shape)\n",
    "df_tsla.head()"
   ]
  },
  {
   "cell_type": "code",
   "execution_count": 8,
   "id": "df0603f8-09fe-4b5a-a46b-5fd8efe550dc",
   "metadata": {},
   "outputs": [],
   "source": [
    "# Does `get_daily` return a DataFrame?\n",
    "assert isinstance(df_tsla, pd.DataFrame)\n",
    "\n",
    "# Does DataFrame have 5 columns?\n",
    "assert df_tsla.shape[1] == 5\n",
    "\n",
    "# Does DataFrame have a DatetimeIndex?\n",
    "assert isinstance(df_tsla.index, pd.DatetimeIndex)\n",
    "\n",
    "# Is the index name \"date\"?\n",
    "assert df_tsla.index.name == \"date\"\n",
    "\n",
    "# Does DataFrame have correct column names?\n",
    "assert df_tsla.columns.to_list() == ['open', 'high', 'low', 'close', 'volume']\n",
    "\n",
    "# Are columns correct data type?\n",
    "assert all(df_tsla.dtypes == \"float\")"
   ]
  },
  {
   "cell_type": "code",
   "execution_count": 26,
   "id": "4ad13ff8-a414-431d-bf9f-1bedb7e8313c",
   "metadata": {},
   "outputs": [
    {
     "name": "stdout",
     "output_type": "stream",
     "text": [
      "connection type: <class 'sqlite3.Connection'>\n"
     ]
    }
   ],
   "source": [
    "connection = sqlite3.connect(database = settings.db_name, check_same_thread = False)\n",
    "print(\"connection type:\", type(connection))"
   ]
  },
  {
   "cell_type": "code",
   "execution_count": 10,
   "id": "4eec62ef-aea4-4103-a2d3-82b873bb3762",
   "metadata": {},
   "outputs": [],
   "source": [
    "# Create instance of class\n",
    "repo = SQLRepository(connection=connection)"
   ]
  },
  {
   "cell_type": "code",
   "execution_count": 11,
   "id": "bdb7d0ce-1f87-456d-8d66-7344ec191018",
   "metadata": {},
   "outputs": [],
   "source": [
    "# Does `repo` have a \"connection\" attribute?\n",
    "assert hasattr(repo, \"connection\")\n",
    "\n",
    "# Is the \"connection\" attribute a SQLite `Connection`?\n",
    "assert isinstance(repo.connection, sqlite3.Connection)"
   ]
  },
  {
   "cell_type": "code",
   "execution_count": 16,
   "id": "c35122e1-d8da-4065-80e0-a623bf4ae623",
   "metadata": {},
   "outputs": [],
   "source": [
    "response = repo.insert_table(table_name=ticker, records=df_tsla, if_exists=\"replace\")"
   ]
  },
  {
   "cell_type": "code",
   "execution_count": 17,
   "id": "0d0bbe3b-c808-4108-ac03-9966c40251dc",
   "metadata": {},
   "outputs": [],
   "source": [
    "# Does your method return a dictionary?\n",
    "assert isinstance(response, dict)\n",
    "\n",
    "# Are the keys of that dictionary correct?\n",
    "assert sorted(list(response.keys())) == [\"records_inserted\", \"transaction_successful\"]"
   ]
  },
  {
   "cell_type": "markdown",
   "id": "2408d1e3-d7e9-4081-815f-608b78fd6f61",
   "metadata": {},
   "source": [
    "Write a basic query in SQL"
   ]
  },
  {
   "cell_type": "code",
   "execution_count": 44,
   "id": "6605debf-6980-4b86-90c8-6dd4fcc60042",
   "metadata": {},
   "outputs": [
    {
     "data": {
      "text/plain": [
       "'stocks.sqlite'"
      ]
     },
     "execution_count": 44,
     "metadata": {},
     "output_type": "execute_result"
    }
   ],
   "source": [
    "settings.db_name"
   ]
  },
  {
   "cell_type": "code",
   "execution_count": 12,
   "id": "b67fe39e-5501-4408-b5a4-6e797a89f9b3",
   "metadata": {},
   "outputs": [
    {
     "name": "stdout",
     "output_type": "stream",
     "text": [
      "True\n"
     ]
    }
   ],
   "source": [
    "import os\n",
    "print(os.path.exists(r\"C:\\Users\\jay\\Desktop\\Volatility\\stocks.sqlite\"))"
   ]
  },
  {
   "cell_type": "code",
   "execution_count": 27,
   "id": "a8ce13b4-54cd-4e14-83b4-db4d14b0edca",
   "metadata": {},
   "outputs": [],
   "source": [
    "df_suzlon = repo.read_table(table_name=\"suzlon.bse\", limit=2500)"
   ]
  },
  {
   "cell_type": "code",
   "execution_count": 29,
   "id": "36400eb0-13c9-47bf-8d3e-35ebdd0f6243",
   "metadata": {},
   "outputs": [
    {
     "name": "stdout",
     "output_type": "stream",
     "text": [
      "df_suzlon shape: (2500, 5)\n",
      "\n",
      "<class 'pandas.core.frame.DataFrame'>\n",
      "DatetimeIndex: 2500 entries, 2025-03-28 to 2015-02-18\n",
      "Data columns (total 5 columns):\n",
      " #   Column  Non-Null Count  Dtype  \n",
      "---  ------  --------------  -----  \n",
      " 0   open    2500 non-null   float64\n",
      " 1   high    2500 non-null   float64\n",
      " 2   low     2500 non-null   float64\n",
      " 3   close   2500 non-null   float64\n",
      " 4   volume  2500 non-null   float64\n",
      "dtypes: float64(5)\n",
      "memory usage: 117.2 KB\n",
      "None\n"
     ]
    },
    {
     "data": {
      "text/html": [
       "<div>\n",
       "<style scoped>\n",
       "    .dataframe tbody tr th:only-of-type {\n",
       "        vertical-align: middle;\n",
       "    }\n",
       "\n",
       "    .dataframe tbody tr th {\n",
       "        vertical-align: top;\n",
       "    }\n",
       "\n",
       "    .dataframe thead th {\n",
       "        text-align: right;\n",
       "    }\n",
       "</style>\n",
       "<table border=\"1\" class=\"dataframe\">\n",
       "  <thead>\n",
       "    <tr style=\"text-align: right;\">\n",
       "      <th></th>\n",
       "      <th>open</th>\n",
       "      <th>high</th>\n",
       "      <th>low</th>\n",
       "      <th>close</th>\n",
       "      <th>volume</th>\n",
       "    </tr>\n",
       "    <tr>\n",
       "      <th>date</th>\n",
       "      <th></th>\n",
       "      <th></th>\n",
       "      <th></th>\n",
       "      <th></th>\n",
       "      <th></th>\n",
       "    </tr>\n",
       "  </thead>\n",
       "  <tbody>\n",
       "    <tr>\n",
       "      <th>2025-03-28</th>\n",
       "      <td>57.48</td>\n",
       "      <td>58.37</td>\n",
       "      <td>56.40</td>\n",
       "      <td>56.60</td>\n",
       "      <td>11027630.0</td>\n",
       "    </tr>\n",
       "    <tr>\n",
       "      <th>2025-03-27</th>\n",
       "      <td>56.88</td>\n",
       "      <td>57.93</td>\n",
       "      <td>56.43</td>\n",
       "      <td>57.03</td>\n",
       "      <td>7595488.0</td>\n",
       "    </tr>\n",
       "    <tr>\n",
       "      <th>2025-03-26</th>\n",
       "      <td>57.85</td>\n",
       "      <td>58.60</td>\n",
       "      <td>56.31</td>\n",
       "      <td>57.47</td>\n",
       "      <td>5709899.0</td>\n",
       "    </tr>\n",
       "    <tr>\n",
       "      <th>2025-03-25</th>\n",
       "      <td>58.47</td>\n",
       "      <td>59.45</td>\n",
       "      <td>57.09</td>\n",
       "      <td>57.62</td>\n",
       "      <td>10877550.0</td>\n",
       "    </tr>\n",
       "    <tr>\n",
       "      <th>2025-03-24</th>\n",
       "      <td>57.66</td>\n",
       "      <td>58.36</td>\n",
       "      <td>57.06</td>\n",
       "      <td>57.92</td>\n",
       "      <td>3589959.0</td>\n",
       "    </tr>\n",
       "  </tbody>\n",
       "</table>\n",
       "</div>"
      ],
      "text/plain": [
       "             open   high    low  close      volume\n",
       "date                                              \n",
       "2025-03-28  57.48  58.37  56.40  56.60  11027630.0\n",
       "2025-03-27  56.88  57.93  56.43  57.03   7595488.0\n",
       "2025-03-26  57.85  58.60  56.31  57.47   5709899.0\n",
       "2025-03-25  58.47  59.45  57.09  57.62  10877550.0\n",
       "2025-03-24  57.66  58.36  57.06  57.92   3589959.0"
      ]
     },
     "execution_count": 29,
     "metadata": {},
     "output_type": "execute_result"
    }
   ],
   "source": [
    "# Is `df_suzlon` a DataFrame?\n",
    "assert isinstance(df_suzlon, pd.DataFrame)\n",
    "\n",
    "# Does it have a `DatetimeIndex`?\n",
    "assert isinstance(df_suzlon.index, pd.DatetimeIndex)\n",
    "\n",
    "# Is the index named \"date\"?\n",
    "assert df_suzlon.index.name == \"date\"\n",
    "\n",
    "# Does it have 2,500 rows and 5 columns?\n",
    "assert df_suzlon.shape == (2500, 5)\n",
    "\n",
    "# Are the column names correct?\n",
    "assert df_suzlon.columns.to_list() == ['open', 'high', 'low', 'close', 'volume'] \n",
    "\n",
    "# Are the column data types correct?\n",
    "assert all(df_suzlon.dtypes == float)\n",
    "\n",
    "# Print `df_suzlon` info\n",
    "print(\"df_suzlon shape:\", df_suzlon.shape)\n",
    "print()\n",
    "print(df_suzlon.info())\n",
    "df_suzlon.head()"
   ]
  },
  {
   "cell_type": "code",
   "execution_count": 18,
   "id": "eb678f4b-0a77-42da-bcb8-e33cca5d94b0",
   "metadata": {},
   "outputs": [
    {
     "data": {
      "text/plain": [
       "{'transaction_successful': True, 'records_inserted': 6394}"
      ]
     },
     "execution_count": 18,
     "metadata": {},
     "output_type": "execute_result"
    }
   ],
   "source": [
    "ticker = \"F\"\n",
    "\n",
    "# Get Ambuja data using `av`\n",
    "ford_records = av.get_daily(ticker = ticker)\n",
    "\n",
    "# Insert `ambuja_records` database using `repo`\n",
    "response = repo.insert_table(table_name=ticker, records=ford_records, if_exists=\"replace\")\n",
    "\n",
    "response"
   ]
  },
  {
   "cell_type": "code",
   "execution_count": 20,
   "id": "efa9ddbf-495b-4bb7-946c-9d56d9e3a961",
   "metadata": {},
   "outputs": [
    {
     "name": "stdout",
     "output_type": "stream",
     "text": [
      "df_ford type: <class 'pandas.core.frame.DataFrame'>\n",
      "df_ford shape: (2500, 5)\n"
     ]
    },
    {
     "data": {
      "text/html": [
       "<div>\n",
       "<style scoped>\n",
       "    .dataframe tbody tr th:only-of-type {\n",
       "        vertical-align: middle;\n",
       "    }\n",
       "\n",
       "    .dataframe tbody tr th {\n",
       "        vertical-align: top;\n",
       "    }\n",
       "\n",
       "    .dataframe thead th {\n",
       "        text-align: right;\n",
       "    }\n",
       "</style>\n",
       "<table border=\"1\" class=\"dataframe\">\n",
       "  <thead>\n",
       "    <tr style=\"text-align: right;\">\n",
       "      <th></th>\n",
       "      <th>open</th>\n",
       "      <th>high</th>\n",
       "      <th>low</th>\n",
       "      <th>close</th>\n",
       "      <th>volume</th>\n",
       "    </tr>\n",
       "    <tr>\n",
       "      <th>date</th>\n",
       "      <th></th>\n",
       "      <th></th>\n",
       "      <th></th>\n",
       "      <th></th>\n",
       "      <th></th>\n",
       "    </tr>\n",
       "  </thead>\n",
       "  <tbody>\n",
       "    <tr>\n",
       "      <th>2025-04-02</th>\n",
       "      <td>9.835</td>\n",
       "      <td>10.27</td>\n",
       "      <td>9.820</td>\n",
       "      <td>10.15</td>\n",
       "      <td>136908485.0</td>\n",
       "    </tr>\n",
       "    <tr>\n",
       "      <th>2025-04-01</th>\n",
       "      <td>10.100</td>\n",
       "      <td>10.17</td>\n",
       "      <td>9.810</td>\n",
       "      <td>9.94</td>\n",
       "      <td>135388684.0</td>\n",
       "    </tr>\n",
       "    <tr>\n",
       "      <th>2025-03-31</th>\n",
       "      <td>9.575</td>\n",
       "      <td>10.11</td>\n",
       "      <td>9.545</td>\n",
       "      <td>10.03</td>\n",
       "      <td>139951868.0</td>\n",
       "    </tr>\n",
       "    <tr>\n",
       "      <th>2025-03-28</th>\n",
       "      <td>9.840</td>\n",
       "      <td>9.89</td>\n",
       "      <td>9.620</td>\n",
       "      <td>9.72</td>\n",
       "      <td>136868327.0</td>\n",
       "    </tr>\n",
       "    <tr>\n",
       "      <th>2025-03-27</th>\n",
       "      <td>10.260</td>\n",
       "      <td>10.40</td>\n",
       "      <td>9.820</td>\n",
       "      <td>9.90</td>\n",
       "      <td>229032469.0</td>\n",
       "    </tr>\n",
       "  </tbody>\n",
       "</table>\n",
       "</div>"
      ],
      "text/plain": [
       "              open   high    low  close       volume\n",
       "date                                                \n",
       "2025-04-02   9.835  10.27  9.820  10.15  136908485.0\n",
       "2025-04-01  10.100  10.17  9.810   9.94  135388684.0\n",
       "2025-03-31   9.575  10.11  9.545  10.03  139951868.0\n",
       "2025-03-28   9.840   9.89  9.620   9.72  136868327.0\n",
       "2025-03-27  10.260  10.40  9.820   9.90  229032469.0"
      ]
     },
     "execution_count": 20,
     "metadata": {},
     "output_type": "execute_result"
    }
   ],
   "source": [
    "ticker = \"F\"\n",
    "df_ford = repo.read_table(table_name = ticker, limit = 2500)\n",
    "\n",
    "print(\"df_ford type:\", type(df_ford))\n",
    "print(\"df_ford shape:\", df_ford.shape)\n",
    "df_ford.head()"
   ]
  },
  {
   "cell_type": "code",
   "execution_count": 29,
   "id": "5cb1b109-3cf0-4a34-a7e8-1b2005f4a2ef",
   "metadata": {},
   "outputs": [
    {
     "data": {
      "text/plain": [
       "<matplotlib.legend.Legend at 0x24a72ac93d0>"
      ]
     },
     "execution_count": 29,
     "metadata": {},
     "output_type": "execute_result"
    },
    {
     "data": {
      "image/png": "[encoded data removed]",
      "text/plain": [
       "<Figure size 1500x600 with 1 Axes>"
      ]
     },
     "metadata": {},
     "output_type": "display_data"
    }
   ],
   "source": [
    "fig, ax = plt.subplots(figsize=(15, 6))\n",
    "# Plot `df_ford` closing price\n",
    "df_tsla[\"close\"].plot(ax=ax, label = \"TESLA\")\n",
    "\n",
    "# Label axes\n",
    "plt.xlabel(\"Date\")\n",
    "plt.ylabel(\"Closing Price\")\n",
    "\n",
    "# Add legend\n",
    "plt.legend()"
   ]
  },
  {
   "cell_type": "code",
   "execution_count": 30,
   "id": "1299ea46-5dcc-4d64-8e42-e4a941fc39b5",
   "metadata": {},
   "outputs": [
    {
     "data": {
      "text/plain": [
       "<matplotlib.legend.Legend at 0x24a72aa79b0>"
      ]
     },
     "execution_count": 30,
     "metadata": {},
     "output_type": "execute_result"
    },
    {
     "data": {
      "image/png": "[encoded data removed]",
      "text/plain": [
       "<Figure size 1500x600 with 1 Axes>"
      ]
     },
     "metadata": {},
     "output_type": "display_data"
    }
   ],
   "source": [
    "fig, ax = plt.subplots(figsize=(15, 6))\n",
    "# Plot `df_ford` closing price\n",
    "df_ford[\"close\"].plot(ax=ax, label = \"FORD\", color = \"C1\")\n",
    "# Label axes\n",
    "plt.xlabel(\"Date\")\n",
    "plt.ylabel(\"Closing Price\")\n",
    "\n",
    "# Add legend\n",
    "plt.legend()"
   ]
  },
  {
   "cell_type": "markdown",
   "id": "89cb5d12-810d-451d-96c9-e6435e727d16",
   "metadata": {},
   "source": [
    "Looking at this plot, we might conclude that Ford auto makers is a \"better\" stock than Tesla automakers because its price is higher. But price is just one factor that an investor must consider when creating an investment strategy. What is definitely true is that it's hard to do a head-to-head comparison of these two stocks because there's such a large price difference.\n",
    "\n",
    "One way in which investors compare stocks is by looking at their returns instead. A return is the change in value in an investment, represented as a percentage. So let's look at the daily returns for our two stocks."
   ]
  },
  {
   "cell_type": "code",
   "execution_count": 34,
   "id": "8e3da174-962c-441d-a68e-aee87c4d81ed",
   "metadata": {},
   "outputs": [
    {
     "name": "stdout",
     "output_type": "stream",
     "text": [
      "df_ford shape: (2500, 6)\n",
      "<class 'pandas.core.frame.DataFrame'>\n",
      "DatetimeIndex: 2500 entries, 2015-04-27 to 2025-04-02\n",
      "Data columns (total 6 columns):\n",
      " #   Column  Non-Null Count  Dtype  \n",
      "---  ------  --------------  -----  \n",
      " 0   open    2500 non-null   float64\n",
      " 1   high    2500 non-null   float64\n",
      " 2   low     2500 non-null   float64\n",
      " 3   close   2500 non-null   float64\n",
      " 4   volume  2500 non-null   float64\n",
      " 5   return  2499 non-null   float64\n",
      "dtypes: float64(6)\n",
      "memory usage: 136.7 KB\n",
      "None\n"
     ]
    },
    {
     "data": {
      "text/html": [
       "<div>\n",
       "<style scoped>\n",
       "    .dataframe tbody tr th:only-of-type {\n",
       "        vertical-align: middle;\n",
       "    }\n",
       "\n",
       "    .dataframe tbody tr th {\n",
       "        vertical-align: top;\n",
       "    }\n",
       "\n",
       "    .dataframe thead th {\n",
       "        text-align: right;\n",
       "    }\n",
       "</style>\n",
       "<table border=\"1\" class=\"dataframe\">\n",
       "  <thead>\n",
       "    <tr style=\"text-align: right;\">\n",
       "      <th></th>\n",
       "      <th>open</th>\n",
       "      <th>high</th>\n",
       "      <th>low</th>\n",
       "      <th>close</th>\n",
       "      <th>volume</th>\n",
       "      <th>return</th>\n",
       "    </tr>\n",
       "    <tr>\n",
       "      <th>date</th>\n",
       "      <th></th>\n",
       "      <th></th>\n",
       "      <th></th>\n",
       "      <th></th>\n",
       "      <th></th>\n",
       "      <th></th>\n",
       "    </tr>\n",
       "  </thead>\n",
       "  <tbody>\n",
       "    <tr>\n",
       "      <th>2015-04-27</th>\n",
       "      <td>15.82</td>\n",
       "      <td>16.00</td>\n",
       "      <td>15.77</td>\n",
       "      <td>15.90</td>\n",
       "      <td>34768339.0</td>\n",
       "      <td>NaN</td>\n",
       "    </tr>\n",
       "    <tr>\n",
       "      <th>2015-04-28</th>\n",
       "      <td>15.93</td>\n",
       "      <td>16.08</td>\n",
       "      <td>15.77</td>\n",
       "      <td>16.06</td>\n",
       "      <td>56606705.0</td>\n",
       "      <td>1.006289</td>\n",
       "    </tr>\n",
       "    <tr>\n",
       "      <th>2015-04-29</th>\n",
       "      <td>15.86</td>\n",
       "      <td>16.10</td>\n",
       "      <td>15.82</td>\n",
       "      <td>16.02</td>\n",
       "      <td>35122251.0</td>\n",
       "      <td>-0.249066</td>\n",
       "    </tr>\n",
       "    <tr>\n",
       "      <th>2015-04-30</th>\n",
       "      <td>15.97</td>\n",
       "      <td>16.04</td>\n",
       "      <td>15.74</td>\n",
       "      <td>15.80</td>\n",
       "      <td>30265757.0</td>\n",
       "      <td>-1.373283</td>\n",
       "    </tr>\n",
       "    <tr>\n",
       "      <th>2015-05-01</th>\n",
       "      <td>15.90</td>\n",
       "      <td>15.94</td>\n",
       "      <td>15.70</td>\n",
       "      <td>15.81</td>\n",
       "      <td>20602237.0</td>\n",
       "      <td>0.063291</td>\n",
       "    </tr>\n",
       "  </tbody>\n",
       "</table>\n",
       "</div>"
      ],
      "text/plain": [
       "             open   high    low  close      volume    return\n",
       "date                                                        \n",
       "2015-04-27  15.82  16.00  15.77  15.90  34768339.0       NaN\n",
       "2015-04-28  15.93  16.08  15.77  16.06  56606705.0  1.006289\n",
       "2015-04-29  15.86  16.10  15.82  16.02  35122251.0 -0.249066\n",
       "2015-04-30  15.97  16.04  15.74  15.80  30265757.0 -1.373283\n",
       "2015-05-01  15.90  15.94  15.70  15.81  20602237.0  0.063291"
      ]
     },
     "execution_count": 34,
     "metadata": {},
     "output_type": "execute_result"
    }
   ],
   "source": [
    "# Sort DataFrame ascending by date\n",
    "df_ford.sort_index(ascending=True, inplace=True)\n",
    "\n",
    "# Create \"return\" column\n",
    "df_ford[\"return\"] = df_ford[\"close\"].pct_change() * 100\n",
    "\n",
    "print(\"df_ford shape:\", df_ford.shape)\n",
    "print(df_ford.info())\n",
    "df_ford.head()"
   ]
  },
  {
   "cell_type": "code",
   "execution_count": 33,
   "id": "38d6a7d9-9900-4e18-b404-e008f29974df",
   "metadata": {},
   "outputs": [
    {
     "name": "stdout",
     "output_type": "stream",
     "text": [
      "df_tsla.shape: (3714, 6)\n",
      "<class 'pandas.core.frame.DataFrame'>\n",
      "DatetimeIndex: 3714 entries, 2010-06-29 to 2025-04-02\n",
      "Data columns (total 6 columns):\n",
      " #   Column  Non-Null Count  Dtype  \n",
      "---  ------  --------------  -----  \n",
      " 0   open    3714 non-null   float64\n",
      " 1   high    3714 non-null   float64\n",
      " 2   low     3714 non-null   float64\n",
      " 3   close   3714 non-null   float64\n",
      " 4   volume  3714 non-null   float64\n",
      " 5   return  3713 non-null   float64\n",
      "dtypes: float64(6)\n",
      "memory usage: 203.1 KB\n",
      "None\n"
     ]
    },
    {
     "data": {
      "text/html": [
       "<div>\n",
       "<style scoped>\n",
       "    .dataframe tbody tr th:only-of-type {\n",
       "        vertical-align: middle;\n",
       "    }\n",
       "\n",
       "    .dataframe tbody tr th {\n",
       "        vertical-align: top;\n",
       "    }\n",
       "\n",
       "    .dataframe thead th {\n",
       "        text-align: right;\n",
       "    }\n",
       "</style>\n",
       "<table border=\"1\" class=\"dataframe\">\n",
       "  <thead>\n",
       "    <tr style=\"text-align: right;\">\n",
       "      <th></th>\n",
       "      <th>open</th>\n",
       "      <th>high</th>\n",
       "      <th>low</th>\n",
       "      <th>close</th>\n",
       "      <th>volume</th>\n",
       "      <th>return</th>\n",
       "    </tr>\n",
       "    <tr>\n",
       "      <th>date</th>\n",
       "      <th></th>\n",
       "      <th></th>\n",
       "      <th></th>\n",
       "      <th></th>\n",
       "      <th></th>\n",
       "      <th></th>\n",
       "    </tr>\n",
       "  </thead>\n",
       "  <tbody>\n",
       "    <tr>\n",
       "      <th>2010-06-29</th>\n",
       "      <td>19.00</td>\n",
       "      <td>25.0000</td>\n",
       "      <td>17.54</td>\n",
       "      <td>23.89</td>\n",
       "      <td>18766300.0</td>\n",
       "      <td>NaN</td>\n",
       "    </tr>\n",
       "    <tr>\n",
       "      <th>2010-06-30</th>\n",
       "      <td>25.79</td>\n",
       "      <td>30.4192</td>\n",
       "      <td>23.30</td>\n",
       "      <td>23.83</td>\n",
       "      <td>17187100.0</td>\n",
       "      <td>-0.251151</td>\n",
       "    </tr>\n",
       "    <tr>\n",
       "      <th>2010-07-01</th>\n",
       "      <td>25.00</td>\n",
       "      <td>25.9200</td>\n",
       "      <td>20.27</td>\n",
       "      <td>21.96</td>\n",
       "      <td>8218800.0</td>\n",
       "      <td>-7.847251</td>\n",
       "    </tr>\n",
       "    <tr>\n",
       "      <th>2010-07-02</th>\n",
       "      <td>23.00</td>\n",
       "      <td>23.1000</td>\n",
       "      <td>18.71</td>\n",
       "      <td>19.20</td>\n",
       "      <td>5139800.0</td>\n",
       "      <td>-12.568306</td>\n",
       "    </tr>\n",
       "    <tr>\n",
       "      <th>2010-07-06</th>\n",
       "      <td>20.00</td>\n",
       "      <td>20.0000</td>\n",
       "      <td>15.83</td>\n",
       "      <td>16.11</td>\n",
       "      <td>6866900.0</td>\n",
       "      <td>-16.093750</td>\n",
       "    </tr>\n",
       "  </tbody>\n",
       "</table>\n",
       "</div>"
      ],
      "text/plain": [
       "             open     high    low  close      volume     return\n",
       "date                                                           \n",
       "2010-06-29  19.00  25.0000  17.54  23.89  18766300.0        NaN\n",
       "2010-06-30  25.79  30.4192  23.30  23.83  17187100.0  -0.251151\n",
       "2010-07-01  25.00  25.9200  20.27  21.96   8218800.0  -7.847251\n",
       "2010-07-02  23.00  23.1000  18.71  19.20   5139800.0 -12.568306\n",
       "2010-07-06  20.00  20.0000  15.83  16.11   6866900.0 -16.093750"
      ]
     },
     "execution_count": 33,
     "metadata": {},
     "output_type": "execute_result"
    }
   ],
   "source": [
    "df_tsla.sort_index(ascending = True, inplace = True)\n",
    "\n",
    "# Create \"return\" column\n",
    "df_tsla[\"return\"] = df_tsla[\"close\"].pct_change() * 100\n",
    "\n",
    "print(\"df_tsla.shape:\", df_tsla.shape)\n",
    "print(df_tsla.info())\n",
    "df_tsla.head()"
   ]
  },
  {
   "cell_type": "code",
   "execution_count": 35,
   "id": "345b4254-002a-47b8-80db-3c662c9dd1ef",
   "metadata": {},
   "outputs": [
    {
     "data": {
      "text/plain": [
       "<matplotlib.legend.Legend at 0x24a72a9e510>"
      ]
     },
     "execution_count": 35,
     "metadata": {},
     "output_type": "execute_result"
    },
    {
     "data": {
      "image/png": "[encoded data removed]",
      "text/plain": [
       "<Figure size 1500x600 with 1 Axes>"
      ]
     },
     "metadata": {},
     "output_type": "display_data"
    }
   ],
   "source": [
    "fig, ax = plt.subplots(figsize=(15, 6))\n",
    "# Plot returns for `df_suzlon` and `df_ambuja`\n",
    "df_ford[\"return\"].plot(ax=ax, label = \"FORD\")\n",
    "df_tsla[\"return\"].plot(ax=ax, label = \"TESLA\")\n",
    "\n",
    "# Label axes\n",
    "plt.xlabel(\"Date\")\n",
    "plt.ylabel(\"Returns\")\n",
    "\n",
    "# Add legend\n",
    "plt.legend()"
   ]
  },
  {
   "cell_type": "markdown",
   "id": "b1bc9ba2-642e-4e48-8ce7-ff5e508b60d9",
   "metadata": {},
   "source": [
    "Success! By representing returns as a percentage, we're able to compare two stocks that have very different prices. But what is this visualization telling us? We can see that the returns for Tesla have a wider spread. We see big gains and big losses. In contrast, the spread for ford is narrower, meaning that the price doesn't fluctuate as much.\n",
    "\n",
    "Another name for this day-to-day fluctuation in returns is called volatility, which is another important factor for investors. So in the next lesson, we'll learn more about volatility and then build a time series model to predict it."
   ]
  },
  {
   "cell_type": "markdown",
   "id": "d7b0694d-e4a8-430f-8925-d2dcd6249044",
   "metadata": {},
   "source": [
    "### API TESTS"
   ]
  },
  {
   "cell_type": "code",
   "execution_count": null,
   "id": "a455e277-c9b2-455b-90c0-f694186118cc",
   "metadata": {},
   "outputs": [],
   "source": [
    "url = \"http://localhost:8008/hello\"\n",
    "response = requests.get(url=url)\n",
    "\n",
    "print(\"response code:\", response.status_code)\n",
    "response.json()"
   ]
  },
  {
   "cell_type": "code",
   "execution_count": null,
   "id": "03778389-6bbc-422c-a0ab-00c7b4fbc599",
   "metadata": {},
   "outputs": [],
   "source": [
    "# URL of `/fit` path\n",
    "url = \"http://localhost:8000/fit\"\n",
    "\n",
    "# Data to send to path\n",
    "json = {\n",
    "    \"ticker\": \"IBM\",\n",
    "    \"use_new_data\": True,\n",
    "    \"n_observations\": 2000,\n",
    "    \"p\": 1,\n",
    "    \"q\": 1\n",
    "}\n",
    "# Response of post request\n",
    "response = requests.post(url=url, json=json)\n",
    "# Inspect response\n",
    "print(\"response code:\", response.status_code)\n",
    "response.json()"
   ]
  },
  {
   "cell_type": "code",
   "execution_count": null,
   "id": "06e346c8-8edf-4620-b6b2-91d24933709e",
   "metadata": {},
   "outputs": [],
   "source": [
    "# URL of `/predict` path\n",
    "url = \"http://localhost:8000/predict\"\n",
    "# Data to send to path\n",
    "json = {\n",
    "    \"n_days\": 5, \n",
    "    \"ticker\": \"IBM\",\n",
    "    \"use_new_data\": False       \n",
    "}\n",
    "# Response of post request\n",
    "response = requests.post(url=url, json=json)\n",
    "# Response JSON to be submitted to grader\n",
    "response.json()"
   ]
  },
  {
   "cell_type": "code",
   "execution_count": null,
   "id": "d6f627f6-556e-4559-b311-49da4f368976",
   "metadata": {},
   "outputs": [],
   "source": [
    "import requests\n",
    "url = \"http://localhost:8000/check_ticker\"\n",
    "json = {\"ticker\": \"tesla\"}\n",
    "response = requests.post(url=url, json = json)\n",
    "response.json()"
   ]
  }
 ],
 "metadata": {
  "kernelspec": {
   "display_name": "Python 3 (ipykernel)",
   "language": "python",
   "name": "python3"
  },
  "language_info": {
   "codemirror_mode": {
    "name": "ipython",
    "version": 3
   },
   "file_extension": ".py",
   "mimetype": "text/x-python",
   "name": "python",
   "nbconvert_exporter": "python",
   "pygments_lexer": "ipython3",
   "version": "3.12.9"
  }
 },
 "nbformat": 4,
 "nbformat_minor": 5
}
