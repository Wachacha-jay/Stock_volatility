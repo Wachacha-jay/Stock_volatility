{
 "cells": [
  {
   "cell_type": "markdown",
   "id": "54d2c2bf-d73c-416a-9e4e-b154c5146743",
   "metadata": {},
   "source": [
    "## Model Deployment"
   ]
  },
  {
   "cell_type": "code",
   "execution_count": 1,
   "id": "1553ac13-4b73-48c5-bc48-d8266608f14d",
   "metadata": {},
   "outputs": [],
   "source": [
    "%load_ext autoreload\n",
    "%autoreload 2\n",
    "\n",
    "import os\n",
    "import sqlite3\n",
    "from glob import glob\n",
    "import joblib\n",
    "import pandas as pd\n",
    "import requests\n",
    "from arch.univariate.base import ARCHModelResult\n",
    "from config import settings\n",
    "from data import SQLRepository\n",
    "from model import GarchModel"
   ]
  },
  {
   "cell_type": "code",
   "execution_count": 2,
   "id": "8289a8d5-86b1-4afd-a2b8-55e70ae835fc",
   "metadata": {},
   "outputs": [
    {
     "name": "stdout",
     "output_type": "stream",
     "text": [
      "repo type: <class 'data.SQLRepository'>\n",
      "repo.connection type: <class 'sqlite3.Connection'>\n"
     ]
    }
   ],
   "source": [
    "#Open a connection to a SQL database using sqlite3.\n",
    "connection = sqlite3.connect(settings.db_name, check_same_thread = False)\n",
    "repo = SQLRepository(connection = connection)\n",
    "\n",
    "print(\"repo type:\", type(repo))\n",
    "print(\"repo.connection type:\", type(repo.connection))"
   ]
  },
  {
   "cell_type": "code",
   "execution_count": 3,
   "id": "e7ef88de-f9f9-446d-be76-0f2110d0ef74",
   "metadata": {},
   "outputs": [],
   "source": [
    "# Instantiate a `GarchModel`\n",
    "gm_ambuja = GarchModel(ticker=\"AMBUJACEM.BSE\", repo=repo, use_new_data=False)\n",
    "\n",
    "# Does `gm_ambuja` have the correct attributes?\n",
    "assert gm_ambuja.ticker == \"AMBUJACEM.BSE\"\n",
    "assert gm_ambuja.repo == repo\n",
    "assert not gm_ambuja.use_new_data\n",
    "assert gm_ambuja.model_directory == settings.model_directory"
   ]
  },
  {
   "cell_type": "code",
   "execution_count": 4,
   "id": "ba3069a0-a676-49aa-a229-97694f500be2",
   "metadata": {},
   "outputs": [
    {
     "data": {
      "text/plain": [
       "date\n",
       "2021-03-23   -0.633628\n",
       "2021-03-24   -3.097244\n",
       "2021-03-25   -0.587544\n",
       "2021-03-26    0.378251\n",
       "2021-03-30    0.730099\n",
       "Name: return, dtype: float64"
      ]
     },
     "execution_count": 4,
     "metadata": {},
     "output_type": "execute_result"
    }
   ],
   "source": [
    "# Instantiate `GarchModel`, use new data\n",
    "model_shop = GarchModel(ticker=\"SHOPERSTOP.BSE\", repo=repo, use_new_data=True)\n",
    "\n",
    "# Check that model doesn't have `data` attribute yet\n",
    "assert not hasattr(model_shop, \"data\")\n",
    "\n",
    "# Wrangle data\n",
    "model_shop.wrangle_data(n_observations=1000)\n",
    "\n",
    "# Does model now have `data` attribute?\n",
    "assert hasattr(model_shop, \"data\")\n",
    "\n",
    "# Is the `data` a Series?\n",
    "assert isinstance(model_shop.data, pd.Series)\n",
    "\n",
    "# Is Series correct shape?\n",
    "assert model_shop.data.shape == (1000,)\n",
    "\n",
    "model_shop.data.head()"
   ]
  },
  {
   "cell_type": "code",
   "execution_count": 5,
   "id": "f33b848b-7cdb-48ea-8a75-e51c333607a6",
   "metadata": {},
   "outputs": [
    {
     "data": {
      "text/html": [
       "<table class=\"simpletable\">\n",
       "<caption>Constant Mean - GARCH Model Results</caption>\n",
       "<tr>\n",
       "  <th>Dep. Variable:</th>       <td>return</td>       <th>  R-squared:         </th>  <td>   0.000</td> \n",
       "</tr>\n",
       "<tr>\n",
       "  <th>Mean Model:</th>       <td>Constant Mean</td>   <th>  Adj. R-squared:    </th>  <td>   0.000</td> \n",
       "</tr>\n",
       "<tr>\n",
       "  <th>Vol Model:</th>            <td>GARCH</td>       <th>  Log-Likelihood:    </th> <td>  -2317.60</td>\n",
       "</tr>\n",
       "<tr>\n",
       "  <th>Distribution:</th>        <td>Normal</td>       <th>  AIC:               </th> <td>   4643.19</td>\n",
       "</tr>\n",
       "<tr>\n",
       "  <th>Method:</th>        <td>Maximum Likelihood</td> <th>  BIC:               </th> <td>   4662.82</td>\n",
       "</tr>\n",
       "<tr>\n",
       "  <th></th>                        <td></td>          <th>  No. Observations:  </th>    <td>1000</td>   \n",
       "</tr>\n",
       "<tr>\n",
       "  <th>Date:</th>           <td>Tue, Apr 01 2025</td>  <th>  Df Residuals:      </th>     <td>999</td>   \n",
       "</tr>\n",
       "<tr>\n",
       "  <th>Time:</th>               <td>03:30:15</td>      <th>  Df Model:          </th>      <td>1</td>    \n",
       "</tr>\n",
       "</table>\n",
       "<table class=\"simpletable\">\n",
       "<caption>Mean Model</caption>\n",
       "<tr>\n",
       "   <td></td>     <th>coef</th>     <th>std err</th>      <th>t</th>       <th>P>|t|</th>     <th>95.0% Conf. Int.</th>  \n",
       "</tr>\n",
       "<tr>\n",
       "  <th>mu</th> <td>    0.1036</td> <td>7.621e-02</td> <td>    1.359</td> <td>    0.174</td> <td>[-4.578e-02,  0.253]</td>\n",
       "</tr>\n",
       "</table>\n",
       "<table class=\"simpletable\">\n",
       "<caption>Volatility Model</caption>\n",
       "<tr>\n",
       "      <td></td>        <th>coef</th>     <th>std err</th>      <th>t</th>       <th>P>|t|</th>     <th>95.0% Conf. Int.</th>   \n",
       "</tr>\n",
       "<tr>\n",
       "  <th>omega</th>    <td>    0.0461</td> <td>3.523e-02</td> <td>    1.309</td> <td>    0.190</td> <td>[-2.293e-02,  0.115]</td> \n",
       "</tr>\n",
       "<tr>\n",
       "  <th>alpha[1]</th> <td>    0.0103</td> <td>3.897e-03</td> <td>    2.635</td> <td>8.407e-03</td> <td>[2.632e-03,1.791e-02]</td>\n",
       "</tr>\n",
       "<tr>\n",
       "  <th>beta[1]</th>  <td>    0.9820</td> <td>4.140e-03</td> <td>  237.187</td>   <td>0.000</td>     <td>[  0.974,  0.990]</td>  \n",
       "</tr>\n",
       "</table><br/><br/>Covariance estimator: robust"
      ],
      "text/latex": [
       "\\begin{center}\n",
       "\\begin{tabular}{lclc}\n",
       "\\toprule\n",
       "\\textbf{Dep. Variable:} &       return       & \\textbf{  R-squared:         } &     0.000   \\\\\n",
       "\\textbf{Mean Model:}    &   Constant Mean    & \\textbf{  Adj. R-squared:    } &     0.000   \\\\\n",
       "\\textbf{Vol Model:}     &       GARCH        & \\textbf{  Log-Likelihood:    } &   -2317.60  \\\\\n",
       "\\textbf{Distribution:}  &       Normal       & \\textbf{  AIC:               } &    4643.19  \\\\\n",
       "\\textbf{Method:}        & Maximum Likelihood & \\textbf{  BIC:               } &    4662.82  \\\\\n",
       "\\textbf{}               &                    & \\textbf{  No. Observations:  } &    1000     \\\\\n",
       "\\textbf{Date:}          &  Tue, Apr 01 2025  & \\textbf{  Df Residuals:      } &    999      \\\\\n",
       "\\textbf{Time:}          &      03:30:15      & \\textbf{  Df Model:          } &     1       \\\\\n",
       "\\bottomrule\n",
       "\\end{tabular}\n",
       "\\begin{tabular}{lccccc}\n",
       "            & \\textbf{coef} & \\textbf{std err} & \\textbf{t} & \\textbf{P$> |$t$|$} & \\textbf{95.0\\% Conf. Int.}  \\\\\n",
       "\\midrule\n",
       "\\textbf{mu} &       0.1036  &    7.621e-02     &     1.359  &          0.174       &    [-4.578e-02,  0.253]     \\\\\n",
       "                  & \\textbf{coef} & \\textbf{std err} & \\textbf{t} & \\textbf{P$> |$t$|$} & \\textbf{95.0\\% Conf. Int.}  \\\\\n",
       "\\midrule\n",
       "\\textbf{omega}    &       0.0461  &    3.523e-02     &     1.309  &          0.190       &    [-2.293e-02,  0.115]     \\\\\n",
       "\\textbf{alpha[1]} &       0.0103  &    3.897e-03     &     2.635  &      8.407e-03       &   [2.632e-03,1.791e-02]     \\\\\n",
       "\\textbf{beta[1]}  &       0.9820  &    4.140e-03     &   237.187  &        0.000         &     [  0.974,  0.990]       \\\\\n",
       "\\bottomrule\n",
       "\\end{tabular}\n",
       "%\\caption{Constant Mean - GARCH Model Results}\n",
       "\\end{center}\n",
       "\n",
       "Covariance estimator: robust"
      ],
      "text/plain": [
       "<class 'statsmodels.iolib.summary.Summary'>\n",
       "\"\"\"\n",
       "                     Constant Mean - GARCH Model Results                      \n",
       "==============================================================================\n",
       "Dep. Variable:                 return   R-squared:                       0.000\n",
       "Mean Model:             Constant Mean   Adj. R-squared:                  0.000\n",
       "Vol Model:                      GARCH   Log-Likelihood:               -2317.60\n",
       "Distribution:                  Normal   AIC:                           4643.19\n",
       "Method:            Maximum Likelihood   BIC:                           4662.82\n",
       "                                        No. Observations:                 1000\n",
       "Date:                Tue, Apr 01 2025   Df Residuals:                      999\n",
       "Time:                        03:30:15   Df Model:                            1\n",
       "                                 Mean Model                                \n",
       "===========================================================================\n",
       "                 coef    std err          t      P>|t|     95.0% Conf. Int.\n",
       "---------------------------------------------------------------------------\n",
       "mu             0.1036  7.621e-02      1.359      0.174 [-4.578e-02,  0.253]\n",
       "                              Volatility Model                              \n",
       "============================================================================\n",
       "                 coef    std err          t      P>|t|      95.0% Conf. Int.\n",
       "----------------------------------------------------------------------------\n",
       "omega          0.0461  3.523e-02      1.309      0.190  [-2.293e-02,  0.115]\n",
       "alpha[1]       0.0103  3.897e-03      2.635  8.407e-03 [2.632e-03,1.791e-02]\n",
       "beta[1]        0.9820  4.140e-03    237.187      0.000     [  0.974,  0.990]\n",
       "============================================================================\n",
       "\n",
       "Covariance estimator: robust\n",
       "\"\"\""
      ]
     },
     "execution_count": 5,
     "metadata": {},
     "output_type": "execute_result"
    }
   ],
   "source": [
    "# Instantiate `GarchModel`, use old data\n",
    "model_shop = GarchModel(ticker=\"SHOPERSTOP.BSE\", repo=repo, use_new_data=False)\n",
    "\n",
    "# Wrangle data\n",
    "model_shop.wrangle_data(n_observations=1000)\n",
    "\n",
    "# Fit GARCH(1,1) model to data\n",
    "model_shop.fit(p=1, q=1)\n",
    "\n",
    "# Does `model_shop` have a `model` attribute now?\n",
    "assert hasattr(model_shop, \"model\")\n",
    "\n",
    "# Is model correct data type?\n",
    "assert isinstance(model_shop.model, ARCHModelResult)\n",
    "\n",
    "# Does model have correct parameters?\n",
    "assert model_shop.model.params.index.tolist() == [\"mu\", \"omega\", \"alpha[1]\", \"beta[1]\"]\n",
    "\n",
    "# Check model parameters\n",
    "model_shop.model.summary()"
   ]
  },
  {
   "cell_type": "code",
   "execution_count": 6,
   "id": "c9ce3245-bbad-4b93-8850-315e225a4d95",
   "metadata": {},
   "outputs": [],
   "source": [
    "# Generate prediction from `model_shop`\n",
    "prediction = model_shop.predict_volatility(horizon=5)\n",
    "\n",
    "# Is prediction a dictionary?\n",
    "assert isinstance(prediction, dict)\n",
    "\n",
    "# Are keys correct data type?\n",
    "assert all(isinstance(k, str) for k in prediction.keys())\n",
    "\n",
    "# Are values correct data type?\n",
    "assert all(isinstance(v, float) for v in prediction.values())"
   ]
  },
  {
   "cell_type": "code",
   "execution_count": 7,
   "id": "eb018c1a-c085-40a0-8d43-1727ea17abf7",
   "metadata": {},
   "outputs": [
    {
     "name": "stdout",
     "output_type": "stream",
     "text": [
      "Saving model to: models\\2025-04-01T03-30-16-116302_SHOPERSTOP_BSE.pkl\n"
     ]
    },
    {
     "data": {
      "text/plain": [
       "'models\\\\2025-04-01T03-30-16-116302_SHOPERSTOP_BSE.pkl'"
      ]
     },
     "execution_count": 7,
     "metadata": {},
     "output_type": "execute_result"
    }
   ],
   "source": [
    "filename = model_shop.dump()\n",
    "filename"
   ]
  },
  {
   "cell_type": "code",
   "execution_count": 8,
   "id": "df80d75e-3487-4835-b2ea-d6f4ac4d4334",
   "metadata": {},
   "outputs": [
    {
     "name": "stdout",
     "output_type": "stream",
     "text": [
      "Successfully loaded model from: models\\2025-04-01T03-30-16-116302_SHOPERSTOP_BSE.pkl\n"
     ]
    }
   ],
   "source": [
    "import re\n",
    "def load(ticker):\n",
    "    \"\"\"Load most recent model in `model_directory` for the given ticker.\n",
    "    \n",
    "    Parameters\n",
    "    ----------\n",
    "    ticker : str\n",
    "        The ticker symbol to load (e.g., \"SHOPERSTOP.BSE\")\n",
    "    model_directory : str\n",
    "        Path to directory containing saved models\n",
    "        \n",
    "    Returns\n",
    "    -------\n",
    "    object\n",
    "        The loaded model, or None if loading failed\n",
    "    \"\"\"\n",
    "    try:\n",
    "        # Sanitize the ticker to match how it was saved\n",
    "        sanitized_ticker = re.sub(r'[<>:\"/\\\\|?*]', '_', ticker).replace('.', '_')\n",
    "        \n",
    "        # Create pattern for glob search (match any timestamp + our ticker)\n",
    "        pattern = os.path.join(settings.model_directory, f\"*_{sanitized_ticker}.pkl\")\n",
    "        \n",
    "        # Get all matching files\n",
    "        matching_files = glob(pattern)\n",
    "        \n",
    "        if not matching_files:\n",
    "            print(f\"No model files found for ticker: {ticker}\")\n",
    "            return None\n",
    "            \n",
    "        # Sort files by modification time (newest first)\n",
    "        matching_files.sort(key=os.path.getmtime, reverse=True)\n",
    "        \n",
    "        # Get the most recent file\n",
    "        latest_file = matching_files[0]\n",
    "        \n",
    "        # Load the model\n",
    "        model = joblib.load(latest_file)\n",
    "        print(f\"Successfully loaded model from: {latest_file}\")\n",
    "        return model\n",
    "        \n",
    "    except IndexError:\n",
    "        print(f\"No valid model files found for pattern: {pattern}\")\n",
    "    except FileNotFoundError:\n",
    "        print(f\"Model directory not found: {model_directory}\")\n",
    "    except Exception as e:\n",
    "        print(f\"Error loading model for {ticker}: {str(e)}\")\n",
    "    \n",
    "    return None\n",
    "\n",
    "# Example usage\n",
    "model_shop = load(ticker=\"SHOPERSTOP.BSE\")"
   ]
  },
  {
   "cell_type": "code",
   "execution_count": 9,
   "id": "8f72e53f-963b-4566-b91d-72bb55f818b4",
   "metadata": {},
   "outputs": [
    {
     "name": "stdout",
     "output_type": "stream",
     "text": [
      "Successfully loaded model from: models\\2025-04-01T03-30-16-116302_SHOPERSTOP_BSE.pkl\n"
     ]
    }
   ],
   "source": [
    "model_shop = load(ticker=\"SHOPERSTOP.BSE\")"
   ]
  },
  {
   "cell_type": "code",
   "execution_count": 10,
   "id": "028487ac-c8c1-43a1-89b0-4e98a464fe71",
   "metadata": {},
   "outputs": [
    {
     "data": {
      "text/html": [
       "<table class=\"simpletable\">\n",
       "<caption>Constant Mean - GARCH Model Results</caption>\n",
       "<tr>\n",
       "  <th>Dep. Variable:</th>       <td>return</td>       <th>  R-squared:         </th>  <td>   0.000</td> \n",
       "</tr>\n",
       "<tr>\n",
       "  <th>Mean Model:</th>       <td>Constant Mean</td>   <th>  Adj. R-squared:    </th>  <td>   0.000</td> \n",
       "</tr>\n",
       "<tr>\n",
       "  <th>Vol Model:</th>            <td>GARCH</td>       <th>  Log-Likelihood:    </th> <td>  -2317.60</td>\n",
       "</tr>\n",
       "<tr>\n",
       "  <th>Distribution:</th>        <td>Normal</td>       <th>  AIC:               </th> <td>   4643.19</td>\n",
       "</tr>\n",
       "<tr>\n",
       "  <th>Method:</th>        <td>Maximum Likelihood</td> <th>  BIC:               </th> <td>   4662.82</td>\n",
       "</tr>\n",
       "<tr>\n",
       "  <th></th>                        <td></td>          <th>  No. Observations:  </th>    <td>1000</td>   \n",
       "</tr>\n",
       "<tr>\n",
       "  <th>Date:</th>           <td>Tue, Apr 01 2025</td>  <th>  Df Residuals:      </th>     <td>999</td>   \n",
       "</tr>\n",
       "<tr>\n",
       "  <th>Time:</th>               <td>03:30:15</td>      <th>  Df Model:          </th>      <td>1</td>    \n",
       "</tr>\n",
       "</table>\n",
       "<table class=\"simpletable\">\n",
       "<caption>Mean Model</caption>\n",
       "<tr>\n",
       "   <td></td>     <th>coef</th>     <th>std err</th>      <th>t</th>       <th>P>|t|</th>     <th>95.0% Conf. Int.</th>  \n",
       "</tr>\n",
       "<tr>\n",
       "  <th>mu</th> <td>    0.1036</td> <td>7.621e-02</td> <td>    1.359</td> <td>    0.174</td> <td>[-4.578e-02,  0.253]</td>\n",
       "</tr>\n",
       "</table>\n",
       "<table class=\"simpletable\">\n",
       "<caption>Volatility Model</caption>\n",
       "<tr>\n",
       "      <td></td>        <th>coef</th>     <th>std err</th>      <th>t</th>       <th>P>|t|</th>     <th>95.0% Conf. Int.</th>   \n",
       "</tr>\n",
       "<tr>\n",
       "  <th>omega</th>    <td>    0.0461</td> <td>3.523e-02</td> <td>    1.309</td> <td>    0.190</td> <td>[-2.293e-02,  0.115]</td> \n",
       "</tr>\n",
       "<tr>\n",
       "  <th>alpha[1]</th> <td>    0.0103</td> <td>3.897e-03</td> <td>    2.635</td> <td>8.407e-03</td> <td>[2.632e-03,1.791e-02]</td>\n",
       "</tr>\n",
       "<tr>\n",
       "  <th>beta[1]</th>  <td>    0.9820</td> <td>4.140e-03</td> <td>  237.187</td>   <td>0.000</td>     <td>[  0.974,  0.990]</td>  \n",
       "</tr>\n",
       "</table><br/><br/>Covariance estimator: robust"
      ],
      "text/latex": [
       "\\begin{center}\n",
       "\\begin{tabular}{lclc}\n",
       "\\toprule\n",
       "\\textbf{Dep. Variable:} &       return       & \\textbf{  R-squared:         } &     0.000   \\\\\n",
       "\\textbf{Mean Model:}    &   Constant Mean    & \\textbf{  Adj. R-squared:    } &     0.000   \\\\\n",
       "\\textbf{Vol Model:}     &       GARCH        & \\textbf{  Log-Likelihood:    } &   -2317.60  \\\\\n",
       "\\textbf{Distribution:}  &       Normal       & \\textbf{  AIC:               } &    4643.19  \\\\\n",
       "\\textbf{Method:}        & Maximum Likelihood & \\textbf{  BIC:               } &    4662.82  \\\\\n",
       "\\textbf{}               &                    & \\textbf{  No. Observations:  } &    1000     \\\\\n",
       "\\textbf{Date:}          &  Tue, Apr 01 2025  & \\textbf{  Df Residuals:      } &    999      \\\\\n",
       "\\textbf{Time:}          &      03:30:15      & \\textbf{  Df Model:          } &     1       \\\\\n",
       "\\bottomrule\n",
       "\\end{tabular}\n",
       "\\begin{tabular}{lccccc}\n",
       "            & \\textbf{coef} & \\textbf{std err} & \\textbf{t} & \\textbf{P$> |$t$|$} & \\textbf{95.0\\% Conf. Int.}  \\\\\n",
       "\\midrule\n",
       "\\textbf{mu} &       0.1036  &    7.621e-02     &     1.359  &          0.174       &    [-4.578e-02,  0.253]     \\\\\n",
       "                  & \\textbf{coef} & \\textbf{std err} & \\textbf{t} & \\textbf{P$> |$t$|$} & \\textbf{95.0\\% Conf. Int.}  \\\\\n",
       "\\midrule\n",
       "\\textbf{omega}    &       0.0461  &    3.523e-02     &     1.309  &          0.190       &    [-2.293e-02,  0.115]     \\\\\n",
       "\\textbf{alpha[1]} &       0.0103  &    3.897e-03     &     2.635  &      8.407e-03       &   [2.632e-03,1.791e-02]     \\\\\n",
       "\\textbf{beta[1]}  &       0.9820  &    4.140e-03     &   237.187  &        0.000         &     [  0.974,  0.990]       \\\\\n",
       "\\bottomrule\n",
       "\\end{tabular}\n",
       "%\\caption{Constant Mean - GARCH Model Results}\n",
       "\\end{center}\n",
       "\n",
       "Covariance estimator: robust"
      ],
      "text/plain": [
       "<class 'statsmodels.iolib.summary.Summary'>\n",
       "\"\"\"\n",
       "                     Constant Mean - GARCH Model Results                      \n",
       "==============================================================================\n",
       "Dep. Variable:                 return   R-squared:                       0.000\n",
       "Mean Model:             Constant Mean   Adj. R-squared:                  0.000\n",
       "Vol Model:                      GARCH   Log-Likelihood:               -2317.60\n",
       "Distribution:                  Normal   AIC:                           4643.19\n",
       "Method:            Maximum Likelihood   BIC:                           4662.82\n",
       "                                        No. Observations:                 1000\n",
       "Date:                Tue, Apr 01 2025   Df Residuals:                      999\n",
       "Time:                        03:30:15   Df Model:                            1\n",
       "                                 Mean Model                                \n",
       "===========================================================================\n",
       "                 coef    std err          t      P>|t|     95.0% Conf. Int.\n",
       "---------------------------------------------------------------------------\n",
       "mu             0.1036  7.621e-02      1.359      0.174 [-4.578e-02,  0.253]\n",
       "                              Volatility Model                              \n",
       "============================================================================\n",
       "                 coef    std err          t      P>|t|      95.0% Conf. Int.\n",
       "----------------------------------------------------------------------------\n",
       "omega          0.0461  3.523e-02      1.309      0.190  [-2.293e-02,  0.115]\n",
       "alpha[1]       0.0103  3.897e-03      2.635  8.407e-03 [2.632e-03,1.791e-02]\n",
       "beta[1]        0.9820  4.140e-03    237.187      0.000     [  0.974,  0.990]\n",
       "============================================================================\n",
       "\n",
       "Covariance estimator: robust\n",
       "\"\"\""
      ]
     },
     "execution_count": 10,
     "metadata": {},
     "output_type": "execute_result"
    }
   ],
   "source": [
    "model_shop.summary()"
   ]
  },
  {
   "cell_type": "markdown",
   "id": "f118296e-8907-4a4a-8b65-23dddf94a00d",
   "metadata": {},
   "source": [
    "## Main Module"
   ]
  },
  {
   "cell_type": "code",
   "execution_count": 11,
   "id": "60fafe4f-3447-4f55-a918-5cdfa35736a8",
   "metadata": {},
   "outputs": [
    {
     "name": "stdout",
     "output_type": "stream",
     "text": [
      "response code: 200\n"
     ]
    },
    {
     "data": {
      "text/plain": [
       "{'message': 'Hello world'}"
      ]
     },
     "execution_count": 11,
     "metadata": {},
     "output_type": "execute_result"
    }
   ],
   "source": [
    "url = \"http://localhost:8008/hello\"\n",
    "response = requests.get(url=url)\n",
    "\n",
    "print(\"response code:\", response.status_code)\n",
    "response.json()"
   ]
  },
  {
   "cell_type": "code",
   "execution_count": 12,
   "id": "41582400-3a10-4d91-9bea-784bf0af8b73",
   "metadata": {},
   "outputs": [
    {
     "name": "stdout",
     "output_type": "stream",
     "text": [
      "ticker='SHOPERSTOP.BSE' n_observations=2000 use_new_data=True p=1 q=1\n",
      "ticker='SHOPERSTOP.BSE' n_observations=2000 use_new_data=True p=1 q=1 success=True message='model is ready to rock'\n"
     ]
    }
   ],
   "source": [
    "from main import FitIn, FitOut\n",
    "\n",
    "# Instantiate `FitIn`. Play with parameters.\n",
    "fi = FitIn(\n",
    "    ticker = \"SHOPERSTOP.BSE\",\n",
    "    use_new_data = True,\n",
    "    n_observations = 2000,\n",
    "    p = 1,\n",
    "    q = 1\n",
    ")\n",
    "print(fi)\n",
    "\n",
    "# Instantiate `FitOut`. Play with parameters.\n",
    "fo = FitOut(\n",
    "   ticker = \"SHOPERSTOP.BSE\",\n",
    "    use_new_data = True,\n",
    "    n_observations = 2000,\n",
    "    p = 1,\n",
    "    q = 1,\n",
    "    success = True,\n",
    "    message = \"model is ready to rock\"\n",
    ")\n",
    "print(fo)"
   ]
  },
  {
   "cell_type": "code",
   "execution_count": 13,
   "id": "16c8aaa9-6f34-4bc8-95e0-ddab5ee42b4a",
   "metadata": {},
   "outputs": [
    {
     "name": "stdout",
     "output_type": "stream",
     "text": [
      "response code: 200\n"
     ]
    },
    {
     "data": {
      "text/plain": [
       "{'ticker': 'SHOPERSTOP.BSE',\n",
       " 'n_observations': 2000,\n",
       " 'use_new_data': False,\n",
       " 'p': 1,\n",
       " 'q': 1,\n",
       " 'success': True,\n",
       " 'message': \"Trained and saved 'models\\\\2025-04-01T03-30-28-476322_SHOPERSTOP_BSE.pkl'.\"}"
      ]
     },
     "execution_count": 13,
     "metadata": {},
     "output_type": "execute_result"
    }
   ],
   "source": [
    "# URL of `/fit` path\n",
    "url = \"http://localhost:8008/fit\"\n",
    "\n",
    "# Data to send to path\n",
    "json = {\n",
    "    \"ticker\": \"SHOPERSTOP.BSE\",\n",
    "    \"use_new_data\": False,\n",
    "    \"n_observations\": 2000,\n",
    "    \"p\": 1,\n",
    "    \"q\": 1\n",
    "}\n",
    "# Response of post request\n",
    "response = requests.post(url=url, json=json)\n",
    "# Inspect response\n",
    "print(\"response code:\", response.status_code)\n",
    "response.json()"
   ]
  },
  {
   "cell_type": "code",
   "execution_count": 14,
   "id": "428d32f4-6a84-4e8f-9278-3fd5c18f6c94",
   "metadata": {},
   "outputs": [
    {
     "name": "stdout",
     "output_type": "stream",
     "text": [
      "n_days=5 ticker='SHOPERSTOP.BSE' use_new_data=False\n",
      "n_days=5 ticker='SHOPERSTOP.BSE' use_new_data=False forecast={} success=True message='success'\n"
     ]
    }
   ],
   "source": [
    "from main import PredictIn, PredictOut\n",
    "\n",
    "pi = PredictIn(ticker=\"SHOPERSTOP.BSE\", n_days=5, use_new_data = False)\n",
    "print(pi)\n",
    "\n",
    "po = PredictOut(\n",
    "    ticker=\"SHOPERSTOP.BSE\", n_days=5, success=True, forecast={}, message=\"success\", use_new_data = False\n",
    ")\n",
    "print(po)"
   ]
  },
  {
   "cell_type": "code",
   "execution_count": 18,
   "id": "bc1d691e-bd52-4c82-aa34-e831b58d618b",
   "metadata": {},
   "outputs": [
    {
     "data": {
      "text/plain": [
       "{'n_days': 5,\n",
       " 'ticker': 'SHOPERSTOP.BSE',\n",
       " 'use_new_data': False,\n",
       " 'forecast': {'2025-03-31T00:00:00': 2.892467271747071,\n",
       "  '2025-04-01T00:00:00': 2.8842176757326237,\n",
       "  '2025-04-02T00:00:00': 2.876216748523103,\n",
       "  '2025-04-03T00:00:00': 2.868457595184337,\n",
       "  '2025-04-04T00:00:00': 2.8609334793275147},\n",
       " 'success': True,\n",
       " 'message': ''}"
      ]
     },
     "execution_count": 18,
     "metadata": {},
     "output_type": "execute_result"
    }
   ],
   "source": [
    "# URL of `/predict` path\n",
    "url = \"http://localhost:8000/predict\"\n",
    "# Data to send to path\n",
    "json = {\n",
    "    \"n_days\": 5, \n",
    "    \"ticker\": \"SHOPERSTOP.BSE\",\n",
    "    \"use_new_data\": False       \n",
    "}\n",
    "# Response of post request\n",
    "response = requests.post(url=url, json=json)\n",
    "# Response JSON to be submitted to grader\n",
    "response.json()"
   ]
  },
  {
   "cell_type": "code",
   "execution_count": 19,
   "id": "a46e5d7f-af95-4944-9bb3-666588f339dc",
   "metadata": {},
   "outputs": [
    {
     "data": {
      "text/plain": [
       "{'n_days': 5,\n",
       " 'ticker': 'IBM',\n",
       " 'use_new_data': True,\n",
       " 'forecast': {},\n",
       " 'success': False,\n",
       " 'message': \"'GarchModel' object has no attribute 'model'\"}"
      ]
     },
     "execution_count": 19,
     "metadata": {},
     "output_type": "execute_result"
    }
   ],
   "source": [
    "url = \"http://localhost:8000/predict\"\n",
    "# Data to send to path\n",
    "json = {\n",
    "    \"n_days\": 5, \n",
    "    \"ticker\": \"IBM\",\n",
    "    \"use_new_data\": True       \n",
    "}\n",
    "# Response of post request\n",
    "response = requests.post(url=url, json=json)\n",
    "# Response JSON to be submitted to grader\n",
    "response.json()"
   ]
  },
  {
   "cell_type": "code",
   "execution_count": 2,
   "id": "ae8162e2-fafc-4fc0-b239-126f37df39a2",
   "metadata": {},
   "outputs": [
    {
     "data": {
      "text/plain": [
       "{'ticker': 'tesla',\n",
       " 'result': {'bestMatches': [{'1. symbol': 'TSLA',\n",
       "    '2. name': 'Tesla Inc',\n",
       "    '3. type': 'Equity',\n",
       "    '4. region': 'United States',\n",
       "    '5. marketOpen': '09:30',\n",
       "    '6. marketClose': '16:00',\n",
       "    '7. timezone': 'UTC-04',\n",
       "    '8. currency': 'USD',\n",
       "    '9. matchScore': '0.8889'},\n",
       "   {'1. symbol': 'TL0.DEX',\n",
       "    '2. name': 'Tesla Inc',\n",
       "    '3. type': 'Equity',\n",
       "    '4. region': 'XETRA',\n",
       "    '5. marketOpen': '08:00',\n",
       "    '6. marketClose': '20:00',\n",
       "    '7. timezone': 'UTC+02',\n",
       "    '8. currency': 'EUR',\n",
       "    '9. matchScore': '0.7143'},\n",
       "   {'1. symbol': 'TL0.FRK',\n",
       "    '2. name': 'Tesla Inc',\n",
       "    '3. type': 'Equity',\n",
       "    '4. region': 'Frankfurt',\n",
       "    '5. marketOpen': '08:00',\n",
       "    '6. marketClose': '20:00',\n",
       "    '7. timezone': 'UTC+02',\n",
       "    '8. currency': 'EUR',\n",
       "    '9. matchScore': '0.7143'},\n",
       "   {'1. symbol': 'TSLA34.SAO',\n",
       "    '2. name': 'Tesla Inc',\n",
       "    '3. type': 'Equity',\n",
       "    '4. region': 'Brazil/Sao Paolo',\n",
       "    '5. marketOpen': '10:00',\n",
       "    '6. marketClose': '17:30',\n",
       "    '7. timezone': 'UTC-03',\n",
       "    '8. currency': 'BRL',\n",
       "    '9. matchScore': '0.7143'},\n",
       "   {'1. symbol': 'TSLA.TRT',\n",
       "    '2. name': 'Tesla CDR (CAD Hedged)',\n",
       "    '3. type': 'Equity',\n",
       "    '4. region': 'Toronto',\n",
       "    '5. marketOpen': '09:30',\n",
       "    '6. marketClose': '16:00',\n",
       "    '7. timezone': 'UTC-05',\n",
       "    '8. currency': 'CAD',\n",
       "    '9. matchScore': '0.6667'},\n",
       "   {'1. symbol': 'TL01.FRK',\n",
       "    '2. name': 'TESLA INC. CDR DL-001',\n",
       "    '3. type': 'Equity',\n",
       "    '4. region': 'Frankfurt',\n",
       "    '5. marketOpen': '08:00',\n",
       "    '6. marketClose': '20:00',\n",
       "    '7. timezone': 'UTC+02',\n",
       "    '8. currency': 'EUR',\n",
       "    '9. matchScore': '0.3846'}]},\n",
       " 'success': True}"
      ]
     },
     "execution_count": 2,
     "metadata": {},
     "output_type": "execute_result"
    }
   ],
   "source": [
    "import requests\n",
    "url = \"http://localhost:8000/check_ticker\"\n",
    "json = {\"ticker\": \"tesla\"}\n",
    "response = requests.post(url=url, json = json)\n",
    "response.json()"
   ]
  },
  {
   "cell_type": "code",
   "execution_count": null,
   "id": "1fd5248d-1251-4d85-9416-1c7792d8538b",
   "metadata": {},
   "outputs": [],
   "source": []
  },
  {
   "cell_type": "code",
   "execution_count": null,
   "id": "0da63cff-e86c-40fd-ba4e-bab14176f4c8",
   "metadata": {},
   "outputs": [],
   "source": []
  },
  {
   "cell_type": "code",
   "execution_count": null,
   "id": "910c359c-fa25-4beb-81ae-bfd8373f2fcd",
   "metadata": {},
   "outputs": [],
   "source": []
  },
  {
   "cell_type": "code",
   "execution_count": null,
   "id": "3c03e5ec-43cc-4293-9d44-bd2689d181b5",
   "metadata": {},
   "outputs": [],
   "source": []
  },
  {
   "cell_type": "code",
   "execution_count": null,
   "id": "1dc7c492-8eb5-46b2-9775-4b151e509371",
   "metadata": {},
   "outputs": [],
   "source": []
  },
  {
   "cell_type": "code",
   "execution_count": null,
   "id": "b22708e0-4a86-441d-ad09-4625818c4a41",
   "metadata": {},
   "outputs": [],
   "source": []
  },
  {
   "cell_type": "code",
   "execution_count": null,
   "id": "ba19e7a2-1da0-4ff5-9312-1f305511a68e",
   "metadata": {},
   "outputs": [],
   "source": []
  },
  {
   "cell_type": "code",
   "execution_count": null,
   "id": "ae6d74fa-15f6-4902-9dac-357e0b54e8b5",
   "metadata": {},
   "outputs": [],
   "source": []
  },
  {
   "cell_type": "code",
   "execution_count": null,
   "id": "0ce1dc68-35b2-46f4-90c5-c428d6449bb7",
   "metadata": {},
   "outputs": [],
   "source": []
  },
  {
   "cell_type": "code",
   "execution_count": null,
   "id": "21e47118-1cd6-4ed3-b293-b4816a1e59d5",
   "metadata": {},
   "outputs": [],
   "source": []
  },
  {
   "cell_type": "code",
   "execution_count": null,
   "id": "4b18ea5b-8c52-405a-ba7f-584c40953a61",
   "metadata": {},
   "outputs": [],
   "source": []
  },
  {
   "cell_type": "code",
   "execution_count": null,
   "id": "48ab2729-04ae-40a6-a984-c2cc9e7dfa19",
   "metadata": {},
   "outputs": [],
   "source": []
  },
  {
   "cell_type": "code",
   "execution_count": null,
   "id": "5e2eb240-df0b-4eb7-858d-48142cfc9955",
   "metadata": {},
   "outputs": [],
   "source": []
  },
  {
   "cell_type": "code",
   "execution_count": null,
   "id": "c390e755-de82-4ae5-9407-7af72d3f516c",
   "metadata": {},
   "outputs": [],
   "source": []
  },
  {
   "cell_type": "code",
   "execution_count": null,
   "id": "77dc1bbe-4f64-40a0-830c-37beb243cdf7",
   "metadata": {},
   "outputs": [],
   "source": []
  },
  {
   "cell_type": "code",
   "execution_count": null,
   "id": "58bbbb17-c1d5-402f-864a-3c5c1a437106",
   "metadata": {},
   "outputs": [],
   "source": []
  },
  {
   "cell_type": "code",
   "execution_count": null,
   "id": "900c43ab-f4b0-40a3-8e62-68ed501e5416",
   "metadata": {},
   "outputs": [],
   "source": []
  },
  {
   "cell_type": "code",
   "execution_count": null,
   "id": "462c4f90-1348-4a1f-9995-016dbc66005b",
   "metadata": {},
   "outputs": [],
   "source": []
  },
  {
   "cell_type": "code",
   "execution_count": null,
   "id": "5bb79d49-f78f-4c77-a792-4c3b5479f4cc",
   "metadata": {},
   "outputs": [],
   "source": []
  }
 ],
 "metadata": {
  "kernelspec": {
   "display_name": "Python 3 (ipykernel)",
   "language": "python",
   "name": "python3"
  },
  "language_info": {
   "codemirror_mode": {
    "name": "ipython",
    "version": 3
   },
   "file_extension": ".py",
   "mimetype": "text/x-python",
   "name": "python",
   "nbconvert_exporter": "python",
   "pygments_lexer": "ipython3",
   "version": "3.12.9"
  }
 },
 "nbformat": 4,
 "nbformat_minor": 5
}
